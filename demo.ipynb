{
 "cells": [
  {
   "cell_type": "code",
   "execution_count": 10,
   "metadata": {},
   "outputs": [],
   "source": [
    "from transformers import AutoTokenizer, AutoModel\n",
    "\n",
    "# Load 2 core modules\n",
    "tokenizer = AutoTokenizer.from_pretrained(\"ptdat/vn-smartphone-absa\", use_fast=False, trust_remote_code=True)\n",
    "model = AutoModel.from_pretrained(\"ptdat/vn-smartphone-absa\", trust_remote_code=True)"
   ]
  },
  {
   "cell_type": "code",
   "execution_count": 19,
   "metadata": {},
   "outputs": [
    {
     "data": {
      "text/plain": [
       "[{'PRICE': 'Positive', 'GENERAL': 'Positive'},\n",
       " {'BATTERY': 'Positive', 'PERFORMANCE': 'Negative', 'SCREEN': 'Negative'}]"
      ]
     },
     "execution_count": 19,
     "metadata": {},
     "output_type": "execute_result"
    }
   ],
   "source": [
    "feedbacks = [\n",
    "    \"Điện thoại tốt, giá phải chăng\",\n",
    "    \"Màn hình đẹp, bin trâu nhưng hơi lắc\"\n",
    "]\n",
    "\n",
    "# Tokenize feedbacks\n",
    "tokens = tokenizer(feedbacks, padding=True, return_tensors=\"pt\")\n",
    "\n",
    "# Feed into model\n",
    "model(**tokens)"
   ]
  }
 ],
 "metadata": {
  "kernelspec": {
   "display_name": "venv",
   "language": "python",
   "name": "python3"
  },
  "language_info": {
   "codemirror_mode": {
    "name": "ipython",
    "version": 3
   },
   "file_extension": ".py",
   "mimetype": "text/x-python",
   "name": "python",
   "nbconvert_exporter": "python",
   "pygments_lexer": "ipython3",
   "version": "3.12.3"
  }
 },
 "nbformat": 4,
 "nbformat_minor": 2
}
