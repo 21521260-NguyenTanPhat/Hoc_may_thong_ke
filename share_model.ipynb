{
 "cells": [
  {
   "cell_type": "markdown",
   "metadata": {},
   "source": [
    "Import libs"
   ]
  },
  {
   "cell_type": "code",
   "execution_count": null,
   "metadata": {},
   "outputs": [],
   "source": [
    "import torch\n",
    "from vnsabsa_model.tokenization_vnsabsa import VnSmartphoneAbsaTokenizer\n",
    "from transformers import AutoConfig, AutoModel, AutoTokenizer\n",
    "\n",
    "from vnsabsa_model.modeling_vnsabsa import VnSmartphoneAbsaModel\n",
    "from vnsabsa_model.configuration_vnsabsa import VnSmartphoneAbsaConfig"
   ]
  },
  {
   "cell_type": "markdown",
   "metadata": {},
   "source": [
    "File configs"
   ]
  },
  {
   "cell_type": "code",
   "execution_count": null,
   "metadata": {},
   "outputs": [],
   "source": [
    "HUB_ID = \"ptdat/vn-smartphone-absa\"\n",
    "LOCAL_VOCAB_FILE = \"./pretrained_tokenizer/vn-smartphone-absa-vocab.json\"\n",
    "LOCAL_MERGES_FILE = \"./pretrained_tokenizer/vn-smartphone-absa-merges.txt\"\n",
    "LOCAL_PRETRAINED_MODEL = \"pretrained_model/smartphone-bert.pt\""
   ]
  },
  {
   "cell_type": "markdown",
   "metadata": {},
   "source": [
    "Initiate modules"
   ]
  },
  {
   "cell_type": "code",
   "execution_count": null,
   "metadata": {},
   "outputs": [],
   "source": [
    "tokenizer = VnSmartphoneAbsaTokenizer(LOCAL_VOCAB_FILE, LOCAL_MERGES_FILE)\n",
    "config = VnSmartphoneAbsaConfig(tokenizer.vocab_size)\n",
    "pretrained = VnSmartphoneAbsaModel(config=config)"
   ]
  },
  {
   "cell_type": "markdown",
   "metadata": {},
   "source": [
    "Load local pretrained model"
   ]
  },
  {
   "cell_type": "code",
   "execution_count": null,
   "metadata": {},
   "outputs": [],
   "source": [
    "states = torch.load(LOCAL_PRETRAINED_MODEL)\n",
    "pretrained.model.load_state_dict(states)"
   ]
  },
  {
   "cell_type": "markdown",
   "metadata": {},
   "source": [
    "Links components together"
   ]
  },
  {
   "cell_type": "code",
   "execution_count": null,
   "metadata": {},
   "outputs": [],
   "source": [
    "AutoConfig.register(\"vnsabsa\", VnSmartphoneAbsaConfig)\n",
    "AutoTokenizer.register(VnSmartphoneAbsaConfig, VnSmartphoneAbsaTokenizer)\n",
    "AutoModel.register(VnSmartphoneAbsaConfig, VnSmartphoneAbsaModel)\n",
    "\n",
    "VnSmartphoneAbsaConfig.register_for_auto_class()\n",
    "VnSmartphoneAbsaModel.register_for_auto_class()\n",
    "VnSmartphoneAbsaTokenizer.register_for_auto_class()"
   ]
  },
  {
   "cell_type": "markdown",
   "metadata": {},
   "source": [
    "Push to hub"
   ]
  },
  {
   "cell_type": "code",
   "execution_count": null,
   "metadata": {},
   "outputs": [],
   "source": [
    "pretrained.push_to_hub(HUB_ID)\n",
    "tokenizer.push_to_hub(HUB_ID)"
   ]
  }
 ],
 "metadata": {
  "kernelspec": {
   "display_name": "venv",
   "language": "python",
   "name": "python3"
  },
  "language_info": {
   "codemirror_mode": {
    "name": "ipython",
    "version": 3
   },
   "file_extension": ".py",
   "mimetype": "text/x-python",
   "name": "python",
   "nbconvert_exporter": "python",
   "pygments_lexer": "ipython3",
   "version": "3.12.3"
  }
 },
 "nbformat": 4,
 "nbformat_minor": 2
}
