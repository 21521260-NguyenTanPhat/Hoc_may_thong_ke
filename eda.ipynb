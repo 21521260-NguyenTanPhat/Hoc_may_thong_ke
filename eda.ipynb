{
 "cells": [
  {
   "cell_type": "markdown",
   "metadata": {},
   "source": [
    "T mới làm có một đêm thôi lỗi nhiều lắm cứ góp ý\n",
    "\n",
    "Link bài viết t tham khảo:\n",
    "\n",
    "https://www.analyticsvidhya.com/blog/2014/11/text-data-cleaning-steps-python/\n",
    "\n",
    "https://www.analyticsvidhya.com/blog/2020/04/beginners-guide-exploratory-data-analysis-text-data/"
   ]
  },
  {
   "cell_type": "code",
   "execution_count": 1,
   "metadata": {},
   "outputs": [],
   "source": [
    "# import các thư viện cần thiết\n",
    "import pandas as pd\n",
    "import numpy as np\n",
    "import matplotlib.pyplot as plt\n",
    "import re\n",
    "import math\n",
    "import string"
   ]
  },
  {
   "cell_type": "code",
   "execution_count": 2,
   "metadata": {},
   "outputs": [],
   "source": [
    "df = pd.read_csv('./UIT-ViSFD/Train.csv')"
   ]
  },
  {
   "cell_type": "markdown",
   "metadata": {},
   "source": [
    "# Summary dữ liệu\n",
    "\n",
    "Như tiêu đề thôi, t summary xíu"
   ]
  },
  {
   "cell_type": "code",
   "execution_count": 3,
   "metadata": {},
   "outputs": [
    {
     "data": {
      "text/html": [
       "<div>\n",
       "<style scoped>\n",
       "    .dataframe tbody tr th:only-of-type {\n",
       "        vertical-align: middle;\n",
       "    }\n",
       "\n",
       "    .dataframe tbody tr th {\n",
       "        vertical-align: top;\n",
       "    }\n",
       "\n",
       "    .dataframe thead th {\n",
       "        text-align: right;\n",
       "    }\n",
       "</style>\n",
       "<table border=\"1\" class=\"dataframe\">\n",
       "  <thead>\n",
       "    <tr style=\"text-align: right;\">\n",
       "      <th></th>\n",
       "      <th>index</th>\n",
       "      <th>comment</th>\n",
       "      <th>n_star</th>\n",
       "      <th>date_time</th>\n",
       "      <th>label</th>\n",
       "    </tr>\n",
       "  </thead>\n",
       "  <tbody>\n",
       "    <tr>\n",
       "      <th>0</th>\n",
       "      <td>0</td>\n",
       "      <td>Mới mua máy này Tại thegioididong thốt nốt cảm...</td>\n",
       "      <td>5</td>\n",
       "      <td>2 tuần trước</td>\n",
       "      <td>{CAMERA#Positive};{FEATURES#Positive};{BATTERY...</td>\n",
       "    </tr>\n",
       "    <tr>\n",
       "      <th>1</th>\n",
       "      <td>1</td>\n",
       "      <td>Pin kém còn lại miễn chê mua 8/3/2019 tình trạ...</td>\n",
       "      <td>5</td>\n",
       "      <td>14/09/2019</td>\n",
       "      <td>{BATTERY#Negative};{GENERAL#Positive};{OTHERS};</td>\n",
       "    </tr>\n",
       "    <tr>\n",
       "      <th>2</th>\n",
       "      <td>2</td>\n",
       "      <td>Sao lúc gọi điện thoại màn hình bị chấm nhỏ nh...</td>\n",
       "      <td>3</td>\n",
       "      <td>17/08/2020</td>\n",
       "      <td>{FEATURES#Negative};</td>\n",
       "    </tr>\n",
       "    <tr>\n",
       "      <th>3</th>\n",
       "      <td>3</td>\n",
       "      <td>Mọi người cập nhật phần mềm lại , nó sẽ bớt tố...</td>\n",
       "      <td>3</td>\n",
       "      <td>29/02/2020</td>\n",
       "      <td>{FEATURES#Negative};{BATTERY#Neutral};{GENERAL...</td>\n",
       "    </tr>\n",
       "    <tr>\n",
       "      <th>4</th>\n",
       "      <td>4</td>\n",
       "      <td>Mới mua Sài được 1 tháng thấy pin rất trâu, Sà...</td>\n",
       "      <td>5</td>\n",
       "      <td>4/6/2020</td>\n",
       "      <td>{BATTERY#Positive};{PERFORMANCE#Positive};{SER...</td>\n",
       "    </tr>\n",
       "  </tbody>\n",
       "</table>\n",
       "</div>"
      ],
      "text/plain": [
       "   index                                            comment  n_star  \\\n",
       "0      0  Mới mua máy này Tại thegioididong thốt nốt cảm...       5   \n",
       "1      1  Pin kém còn lại miễn chê mua 8/3/2019 tình trạ...       5   \n",
       "2      2  Sao lúc gọi điện thoại màn hình bị chấm nhỏ nh...       3   \n",
       "3      3  Mọi người cập nhật phần mềm lại , nó sẽ bớt tố...       3   \n",
       "4      4  Mới mua Sài được 1 tháng thấy pin rất trâu, Sà...       5   \n",
       "\n",
       "      date_time                                              label  \n",
       "0  2 tuần trước  {CAMERA#Positive};{FEATURES#Positive};{BATTERY...  \n",
       "1    14/09/2019    {BATTERY#Negative};{GENERAL#Positive};{OTHERS};  \n",
       "2    17/08/2020                               {FEATURES#Negative};  \n",
       "3    29/02/2020  {FEATURES#Negative};{BATTERY#Neutral};{GENERAL...  \n",
       "4      4/6/2020  {BATTERY#Positive};{PERFORMANCE#Positive};{SER...  "
      ]
     },
     "execution_count": 3,
     "metadata": {},
     "output_type": "execute_result"
    }
   ],
   "source": [
    "df.head()"
   ]
  },
  {
   "cell_type": "markdown",
   "metadata": {},
   "source": [
    "Do cần đánh giá cảm xúc bình luận nên ta chỉ cần 2 cột là comment và label (có thể cân nhắc cột n_star)\n",
    "\n",
    "Tiến hành chọn cột cần cho đề bài"
   ]
  },
  {
   "cell_type": "code",
   "execution_count": 4,
   "metadata": {},
   "outputs": [],
   "source": [
    "df = df[['comment', 'label']]"
   ]
  },
  {
   "cell_type": "code",
   "execution_count": 5,
   "metadata": {},
   "outputs": [
    {
     "name": "stdout",
     "output_type": "stream",
     "text": [
      "<class 'pandas.core.frame.DataFrame'>\n",
      "RangeIndex: 7786 entries, 0 to 7785\n",
      "Data columns (total 2 columns):\n",
      " #   Column   Non-Null Count  Dtype \n",
      "---  ------   --------------  ----- \n",
      " 0   comment  7786 non-null   object\n",
      " 1   label    7786 non-null   object\n",
      "dtypes: object(2)\n",
      "memory usage: 121.8+ KB\n"
     ]
    }
   ],
   "source": [
    "df.info()"
   ]
  },
  {
   "cell_type": "markdown",
   "metadata": {},
   "source": [
    "Chúng ta có 7786 comment với 7786 label tương ứng, nghĩa là t không cần xử lý dữ liệu rỗng ok nha mấy ô"
   ]
  },
  {
   "cell_type": "markdown",
   "metadata": {},
   "source": [
    "# Lowercase các từ\n",
    "\n",
    "Bước đầu t sẽ lowercase các từ để những công đoạn sau dễ xử lý hơn"
   ]
  },
  {
   "cell_type": "code",
   "execution_count": 6,
   "metadata": {},
   "outputs": [],
   "source": [
    "df1 = df.copy()\n",
    "df1.comment = df1.comment.apply(lambda x: x.lower())"
   ]
  },
  {
   "cell_type": "code",
   "execution_count": 7,
   "metadata": {},
   "outputs": [
    {
     "data": {
      "text/html": [
       "<div>\n",
       "<style scoped>\n",
       "    .dataframe tbody tr th:only-of-type {\n",
       "        vertical-align: middle;\n",
       "    }\n",
       "\n",
       "    .dataframe tbody tr th {\n",
       "        vertical-align: top;\n",
       "    }\n",
       "\n",
       "    .dataframe thead th {\n",
       "        text-align: right;\n",
       "    }\n",
       "</style>\n",
       "<table border=\"1\" class=\"dataframe\">\n",
       "  <thead>\n",
       "    <tr style=\"text-align: right;\">\n",
       "      <th></th>\n",
       "      <th>comment</th>\n",
       "      <th>label</th>\n",
       "    </tr>\n",
       "  </thead>\n",
       "  <tbody>\n",
       "    <tr>\n",
       "      <th>0</th>\n",
       "      <td>mới mua máy này tại thegioididong thốt nốt cảm...</td>\n",
       "      <td>{CAMERA#Positive};{FEATURES#Positive};{BATTERY...</td>\n",
       "    </tr>\n",
       "    <tr>\n",
       "      <th>1</th>\n",
       "      <td>pin kém còn lại miễn chê mua 8/3/2019 tình trạ...</td>\n",
       "      <td>{BATTERY#Negative};{GENERAL#Positive};{OTHERS};</td>\n",
       "    </tr>\n",
       "    <tr>\n",
       "      <th>2</th>\n",
       "      <td>sao lúc gọi điện thoại màn hình bị chấm nhỏ nh...</td>\n",
       "      <td>{FEATURES#Negative};</td>\n",
       "    </tr>\n",
       "    <tr>\n",
       "      <th>3</th>\n",
       "      <td>mọi người cập nhật phần mềm lại , nó sẽ bớt tố...</td>\n",
       "      <td>{FEATURES#Negative};{BATTERY#Neutral};{GENERAL...</td>\n",
       "    </tr>\n",
       "    <tr>\n",
       "      <th>4</th>\n",
       "      <td>mới mua sài được 1 tháng thấy pin rất trâu, sà...</td>\n",
       "      <td>{BATTERY#Positive};{PERFORMANCE#Positive};{SER...</td>\n",
       "    </tr>\n",
       "  </tbody>\n",
       "</table>\n",
       "</div>"
      ],
      "text/plain": [
       "                                             comment  \\\n",
       "0  mới mua máy này tại thegioididong thốt nốt cảm...   \n",
       "1  pin kém còn lại miễn chê mua 8/3/2019 tình trạ...   \n",
       "2  sao lúc gọi điện thoại màn hình bị chấm nhỏ nh...   \n",
       "3  mọi người cập nhật phần mềm lại , nó sẽ bớt tố...   \n",
       "4  mới mua sài được 1 tháng thấy pin rất trâu, sà...   \n",
       "\n",
       "                                               label  \n",
       "0  {CAMERA#Positive};{FEATURES#Positive};{BATTERY...  \n",
       "1    {BATTERY#Negative};{GENERAL#Positive};{OTHERS};  \n",
       "2                               {FEATURES#Negative};  \n",
       "3  {FEATURES#Negative};{BATTERY#Neutral};{GENERAL...  \n",
       "4  {BATTERY#Positive};{PERFORMANCE#Positive};{SER...  "
      ]
     },
     "execution_count": 7,
     "metadata": {},
     "output_type": "execute_result"
    }
   ],
   "source": [
    "df1.head()"
   ]
  },
  {
   "cell_type": "markdown",
   "metadata": {},
   "source": [
    "# Xử lý stop-word\n",
    "\n",
    "Stop-word là các từ thường không có tác dụng trong câu\n",
    "\n",
    "Thí dụ như từ \"mình\" đi, \"mình thấy điện thoại khá đẹp\" -> \"thấy điện thoại khá đẹp\"\n",
    "\n",
    "Nội dung câu vẫn không thay đổi, đánh giá rằng điện thoại có ngoại hình đẹp\n",
    "\n",
    "Stop-word trong thư viện nltk không có ngôn ngữ Tiếng Việt, nên t sẽ sử dụng một repository trên GitHub\n",
    "\n",
    "Link repository GitHub: https://github.com/stopwords/vietnamese-stopwords/tree/master"
   ]
  },
  {
   "cell_type": "code",
   "execution_count": 8,
   "metadata": {},
   "outputs": [],
   "source": [
    "# Vì comment không có dash nên sử dụng bản không có dash\n",
    "stop_words = pd.read_csv(rf'vietnamese-stopwords-master\\vietnamese-stopwords.txt', header=None)"
   ]
  },
  {
   "cell_type": "code",
   "execution_count": 9,
   "metadata": {},
   "outputs": [
    {
     "data": {
      "text/html": [
       "<div>\n",
       "<style scoped>\n",
       "    .dataframe tbody tr th:only-of-type {\n",
       "        vertical-align: middle;\n",
       "    }\n",
       "\n",
       "    .dataframe tbody tr th {\n",
       "        vertical-align: top;\n",
       "    }\n",
       "\n",
       "    .dataframe thead th {\n",
       "        text-align: right;\n",
       "    }\n",
       "</style>\n",
       "<table border=\"1\" class=\"dataframe\">\n",
       "  <thead>\n",
       "    <tr style=\"text-align: right;\">\n",
       "      <th></th>\n",
       "      <th>0</th>\n",
       "    </tr>\n",
       "  </thead>\n",
       "  <tbody>\n",
       "    <tr>\n",
       "      <th>0</th>\n",
       "      <td>a lô</td>\n",
       "    </tr>\n",
       "    <tr>\n",
       "      <th>1</th>\n",
       "      <td>a ha</td>\n",
       "    </tr>\n",
       "    <tr>\n",
       "      <th>2</th>\n",
       "      <td>ai</td>\n",
       "    </tr>\n",
       "    <tr>\n",
       "      <th>3</th>\n",
       "      <td>ai ai</td>\n",
       "    </tr>\n",
       "    <tr>\n",
       "      <th>4</th>\n",
       "      <td>ai nấy</td>\n",
       "    </tr>\n",
       "  </tbody>\n",
       "</table>\n",
       "</div>"
      ],
      "text/plain": [
       "        0\n",
       "0    a lô\n",
       "1    a ha\n",
       "2      ai\n",
       "3   ai ai\n",
       "4  ai nấy"
      ]
     },
     "execution_count": 9,
     "metadata": {},
     "output_type": "execute_result"
    }
   ],
   "source": [
    "stop_words.head()"
   ]
  },
  {
   "cell_type": "code",
   "execution_count": 10,
   "metadata": {},
   "outputs": [],
   "source": [
    "stop_words = stop_words[0].tolist()"
   ]
  },
  {
   "cell_type": "code",
   "execution_count": 11,
   "metadata": {},
   "outputs": [],
   "source": [
    "# Bỏ đi các từ stop word\n",
    "df2 = df1.copy()\n",
    "df2['comment'] = df2['comment'].apply(lambda x: ' '.join([word for word in x.split() if word not in stop_words]))"
   ]
  },
  {
   "cell_type": "markdown",
   "metadata": {},
   "source": [
    "Check con hàng"
   ]
  },
  {
   "cell_type": "code",
   "execution_count": 12,
   "metadata": {},
   "outputs": [
    {
     "data": {
      "text/html": [
       "<div>\n",
       "<style scoped>\n",
       "    .dataframe tbody tr th:only-of-type {\n",
       "        vertical-align: middle;\n",
       "    }\n",
       "\n",
       "    .dataframe tbody tr th {\n",
       "        vertical-align: top;\n",
       "    }\n",
       "\n",
       "    .dataframe thead th {\n",
       "        text-align: right;\n",
       "    }\n",
       "</style>\n",
       "<table border=\"1\" class=\"dataframe\">\n",
       "  <thead>\n",
       "    <tr style=\"text-align: right;\">\n",
       "      <th></th>\n",
       "      <th>comment</th>\n",
       "      <th>label</th>\n",
       "    </tr>\n",
       "  </thead>\n",
       "  <tbody>\n",
       "    <tr>\n",
       "      <th>0</th>\n",
       "      <td>mới mua máy này tại thegioididong thốt nốt cảm...</td>\n",
       "      <td>{CAMERA#Positive};{FEATURES#Positive};{BATTERY...</td>\n",
       "    </tr>\n",
       "    <tr>\n",
       "      <th>1</th>\n",
       "      <td>pin kém còn lại miễn chê mua 8/3/2019 tình trạ...</td>\n",
       "      <td>{BATTERY#Negative};{GENERAL#Positive};{OTHERS};</td>\n",
       "    </tr>\n",
       "    <tr>\n",
       "      <th>2</th>\n",
       "      <td>sao lúc gọi điện thoại màn hình bị chấm nhỏ nh...</td>\n",
       "      <td>{FEATURES#Negative};</td>\n",
       "    </tr>\n",
       "    <tr>\n",
       "      <th>3</th>\n",
       "      <td>mọi người cập nhật phần mềm lại , nó sẽ bớt tố...</td>\n",
       "      <td>{FEATURES#Negative};{BATTERY#Neutral};{GENERAL...</td>\n",
       "    </tr>\n",
       "    <tr>\n",
       "      <th>4</th>\n",
       "      <td>mới mua sài được 1 tháng thấy pin rất trâu, sà...</td>\n",
       "      <td>{BATTERY#Positive};{PERFORMANCE#Positive};{SER...</td>\n",
       "    </tr>\n",
       "  </tbody>\n",
       "</table>\n",
       "</div>"
      ],
      "text/plain": [
       "                                             comment  \\\n",
       "0  mới mua máy này tại thegioididong thốt nốt cảm...   \n",
       "1  pin kém còn lại miễn chê mua 8/3/2019 tình trạ...   \n",
       "2  sao lúc gọi điện thoại màn hình bị chấm nhỏ nh...   \n",
       "3  mọi người cập nhật phần mềm lại , nó sẽ bớt tố...   \n",
       "4  mới mua sài được 1 tháng thấy pin rất trâu, sà...   \n",
       "\n",
       "                                               label  \n",
       "0  {CAMERA#Positive};{FEATURES#Positive};{BATTERY...  \n",
       "1    {BATTERY#Negative};{GENERAL#Positive};{OTHERS};  \n",
       "2                               {FEATURES#Negative};  \n",
       "3  {FEATURES#Negative};{BATTERY#Neutral};{GENERAL...  \n",
       "4  {BATTERY#Positive};{PERFORMANCE#Positive};{SER...  "
      ]
     },
     "execution_count": 12,
     "metadata": {},
     "output_type": "execute_result"
    }
   ],
   "source": [
    "df1.head()"
   ]
  },
  {
   "cell_type": "code",
   "execution_count": 13,
   "metadata": {},
   "outputs": [
    {
     "data": {
      "text/html": [
       "<div>\n",
       "<style scoped>\n",
       "    .dataframe tbody tr th:only-of-type {\n",
       "        vertical-align: middle;\n",
       "    }\n",
       "\n",
       "    .dataframe tbody tr th {\n",
       "        vertical-align: top;\n",
       "    }\n",
       "\n",
       "    .dataframe thead th {\n",
       "        text-align: right;\n",
       "    }\n",
       "</style>\n",
       "<table border=\"1\" class=\"dataframe\">\n",
       "  <thead>\n",
       "    <tr style=\"text-align: right;\">\n",
       "      <th></th>\n",
       "      <th>comment</th>\n",
       "      <th>label</th>\n",
       "    </tr>\n",
       "  </thead>\n",
       "  <tbody>\n",
       "    <tr>\n",
       "      <th>0</th>\n",
       "      <td>mua máy thegioididong nốt cảm ok bin trâu chụp...</td>\n",
       "      <td>{CAMERA#Positive};{FEATURES#Positive};{BATTERY...</td>\n",
       "    </tr>\n",
       "    <tr>\n",
       "      <th>1</th>\n",
       "      <td>pin kém miễn chê mua 8/3/2019 tình trạng pin 88%</td>\n",
       "      <td>{BATTERY#Negative};{GENERAL#Positive};{OTHERS};</td>\n",
       "    </tr>\n",
       "    <tr>\n",
       "      <th>2</th>\n",
       "      <td>gọi điện thoại màn hình chấm nháy camera vậy(l...</td>\n",
       "      <td>{FEATURES#Negative};</td>\n",
       "    </tr>\n",
       "    <tr>\n",
       "      <th>3</th>\n",
       "      <td>cập nhật mềm , bớt tốn pin, thử rồi, ok, vân k...</td>\n",
       "      <td>{FEATURES#Negative};{BATTERY#Neutral};{GENERAL...</td>\n",
       "    </tr>\n",
       "    <tr>\n",
       "      <th>4</th>\n",
       "      <td>mua sài 1 pin trâu, sài bao mượt . 1 lỗi nhạc ...</td>\n",
       "      <td>{BATTERY#Positive};{PERFORMANCE#Positive};{SER...</td>\n",
       "    </tr>\n",
       "  </tbody>\n",
       "</table>\n",
       "</div>"
      ],
      "text/plain": [
       "                                             comment  \\\n",
       "0  mua máy thegioididong nốt cảm ok bin trâu chụp...   \n",
       "1   pin kém miễn chê mua 8/3/2019 tình trạng pin 88%   \n",
       "2  gọi điện thoại màn hình chấm nháy camera vậy(l...   \n",
       "3  cập nhật mềm , bớt tốn pin, thử rồi, ok, vân k...   \n",
       "4  mua sài 1 pin trâu, sài bao mượt . 1 lỗi nhạc ...   \n",
       "\n",
       "                                               label  \n",
       "0  {CAMERA#Positive};{FEATURES#Positive};{BATTERY...  \n",
       "1    {BATTERY#Negative};{GENERAL#Positive};{OTHERS};  \n",
       "2                               {FEATURES#Negative};  \n",
       "3  {FEATURES#Negative};{BATTERY#Neutral};{GENERAL...  \n",
       "4  {BATTERY#Positive};{PERFORMANCE#Positive};{SER...  "
      ]
     },
     "execution_count": 13,
     "metadata": {},
     "output_type": "execute_result"
    }
   ],
   "source": [
    "df2.head()"
   ]
  },
  {
   "cell_type": "markdown",
   "metadata": {},
   "source": [
    "Mấy ô có thể check 2 cái và thấy được sự khác biết liền :smile:"
   ]
  },
  {
   "cell_type": "markdown",
   "metadata": {},
   "source": [
    "# Loại bỏ dấu câu và emoji\n",
    "\n",
    "Dấu câu chỉ có tác dụng trong văn học, ta hoàn toàn có thể nghỉ chơi với nó\n",
    "\n",
    "Emoji thì thường không thể hiện được ý nghĩa câu nên bỏ luôn"
   ]
  },
  {
   "cell_type": "code",
   "execution_count": 14,
   "metadata": {},
   "outputs": [],
   "source": [
    "df3 = df2.copy()\n",
    "df3['comment'] = df3['comment'].str.replace(r'[^\\w\\s]', '', regex=True)"
   ]
  },
  {
   "cell_type": "code",
   "execution_count": 15,
   "metadata": {},
   "outputs": [
    {
     "data": {
      "text/html": [
       "<div>\n",
       "<style scoped>\n",
       "    .dataframe tbody tr th:only-of-type {\n",
       "        vertical-align: middle;\n",
       "    }\n",
       "\n",
       "    .dataframe tbody tr th {\n",
       "        vertical-align: top;\n",
       "    }\n",
       "\n",
       "    .dataframe thead th {\n",
       "        text-align: right;\n",
       "    }\n",
       "</style>\n",
       "<table border=\"1\" class=\"dataframe\">\n",
       "  <thead>\n",
       "    <tr style=\"text-align: right;\">\n",
       "      <th></th>\n",
       "      <th>comment</th>\n",
       "      <th>label</th>\n",
       "    </tr>\n",
       "  </thead>\n",
       "  <tbody>\n",
       "    <tr>\n",
       "      <th>0</th>\n",
       "      <td>mua máy thegioididong nốt cảm ok bin trâu chụp...</td>\n",
       "      <td>{CAMERA#Positive};{FEATURES#Positive};{BATTERY...</td>\n",
       "    </tr>\n",
       "    <tr>\n",
       "      <th>1</th>\n",
       "      <td>pin kém miễn chê mua 8/3/2019 tình trạng pin 88%</td>\n",
       "      <td>{BATTERY#Negative};{GENERAL#Positive};{OTHERS};</td>\n",
       "    </tr>\n",
       "    <tr>\n",
       "      <th>2</th>\n",
       "      <td>gọi điện thoại màn hình chấm nháy camera vậy(l...</td>\n",
       "      <td>{FEATURES#Negative};</td>\n",
       "    </tr>\n",
       "    <tr>\n",
       "      <th>3</th>\n",
       "      <td>cập nhật mềm , bớt tốn pin, thử rồi, ok, vân k...</td>\n",
       "      <td>{FEATURES#Negative};{BATTERY#Neutral};{GENERAL...</td>\n",
       "    </tr>\n",
       "    <tr>\n",
       "      <th>4</th>\n",
       "      <td>mua sài 1 pin trâu, sài bao mượt . 1 lỗi nhạc ...</td>\n",
       "      <td>{BATTERY#Positive};{PERFORMANCE#Positive};{SER...</td>\n",
       "    </tr>\n",
       "  </tbody>\n",
       "</table>\n",
       "</div>"
      ],
      "text/plain": [
       "                                             comment  \\\n",
       "0  mua máy thegioididong nốt cảm ok bin trâu chụp...   \n",
       "1   pin kém miễn chê mua 8/3/2019 tình trạng pin 88%   \n",
       "2  gọi điện thoại màn hình chấm nháy camera vậy(l...   \n",
       "3  cập nhật mềm , bớt tốn pin, thử rồi, ok, vân k...   \n",
       "4  mua sài 1 pin trâu, sài bao mượt . 1 lỗi nhạc ...   \n",
       "\n",
       "                                               label  \n",
       "0  {CAMERA#Positive};{FEATURES#Positive};{BATTERY...  \n",
       "1    {BATTERY#Negative};{GENERAL#Positive};{OTHERS};  \n",
       "2                               {FEATURES#Negative};  \n",
       "3  {FEATURES#Negative};{BATTERY#Neutral};{GENERAL...  \n",
       "4  {BATTERY#Positive};{PERFORMANCE#Positive};{SER...  "
      ]
     },
     "execution_count": 15,
     "metadata": {},
     "output_type": "execute_result"
    }
   ],
   "source": [
    "df2.head()"
   ]
  },
  {
   "cell_type": "code",
   "execution_count": 16,
   "metadata": {},
   "outputs": [
    {
     "data": {
      "text/html": [
       "<div>\n",
       "<style scoped>\n",
       "    .dataframe tbody tr th:only-of-type {\n",
       "        vertical-align: middle;\n",
       "    }\n",
       "\n",
       "    .dataframe tbody tr th {\n",
       "        vertical-align: top;\n",
       "    }\n",
       "\n",
       "    .dataframe thead th {\n",
       "        text-align: right;\n",
       "    }\n",
       "</style>\n",
       "<table border=\"1\" class=\"dataframe\">\n",
       "  <thead>\n",
       "    <tr style=\"text-align: right;\">\n",
       "      <th></th>\n",
       "      <th>comment</th>\n",
       "      <th>label</th>\n",
       "    </tr>\n",
       "  </thead>\n",
       "  <tbody>\n",
       "    <tr>\n",
       "      <th>0</th>\n",
       "      <td>mua máy thegioididong nốt cảm ok bin trâu chụp...</td>\n",
       "      <td>{CAMERA#Positive};{FEATURES#Positive};{BATTERY...</td>\n",
       "    </tr>\n",
       "    <tr>\n",
       "      <th>1</th>\n",
       "      <td>pin kém miễn chê mua 832019 tình trạng pin 88</td>\n",
       "      <td>{BATTERY#Negative};{GENERAL#Positive};{OTHERS};</td>\n",
       "    </tr>\n",
       "    <tr>\n",
       "      <th>2</th>\n",
       "      <td>gọi điện thoại màn hình chấm nháy camera vậylú...</td>\n",
       "      <td>{FEATURES#Negative};</td>\n",
       "    </tr>\n",
       "    <tr>\n",
       "      <th>3</th>\n",
       "      <td>cập nhật mềm  bớt tốn pin thử rồi ok vân ko nhạy</td>\n",
       "      <td>{FEATURES#Negative};{BATTERY#Neutral};{GENERAL...</td>\n",
       "    </tr>\n",
       "    <tr>\n",
       "      <th>4</th>\n",
       "      <td>mua sài 1 pin trâu sài bao mượt  1 lỗi nhạc ta...</td>\n",
       "      <td>{BATTERY#Positive};{PERFORMANCE#Positive};{SER...</td>\n",
       "    </tr>\n",
       "  </tbody>\n",
       "</table>\n",
       "</div>"
      ],
      "text/plain": [
       "                                             comment  \\\n",
       "0  mua máy thegioididong nốt cảm ok bin trâu chụp...   \n",
       "1      pin kém miễn chê mua 832019 tình trạng pin 88   \n",
       "2  gọi điện thoại màn hình chấm nháy camera vậylú...   \n",
       "3   cập nhật mềm  bớt tốn pin thử rồi ok vân ko nhạy   \n",
       "4  mua sài 1 pin trâu sài bao mượt  1 lỗi nhạc ta...   \n",
       "\n",
       "                                               label  \n",
       "0  {CAMERA#Positive};{FEATURES#Positive};{BATTERY...  \n",
       "1    {BATTERY#Negative};{GENERAL#Positive};{OTHERS};  \n",
       "2                               {FEATURES#Negative};  \n",
       "3  {FEATURES#Negative};{BATTERY#Neutral};{GENERAL...  \n",
       "4  {BATTERY#Positive};{PERFORMANCE#Positive};{SER...  "
      ]
     },
     "execution_count": 16,
     "metadata": {},
     "output_type": "execute_result"
    }
   ],
   "source": [
    "df3.head()"
   ]
  },
  {
   "cell_type": "markdown",
   "metadata": {},
   "source": [
    "Đây là 1 câu có emoji mà t kiếm được"
   ]
  },
  {
   "cell_type": "code",
   "execution_count": 17,
   "metadata": {},
   "outputs": [
    {
     "data": {
      "text/plain": [
       "'1. máy game, lướt web..., sử dụng pin 1 16 tiếng ( ngủ ngủ chẳng động ) . 2 mn 2. nhạc cà giật cà giật 3. video mờ chán okie 🙆'"
      ]
     },
     "execution_count": 17,
     "metadata": {},
     "output_type": "execute_result"
    }
   ],
   "source": [
    "df2[\"comment\"][97]"
   ]
  },
  {
   "cell_type": "code",
   "execution_count": 18,
   "metadata": {},
   "outputs": [
    {
     "data": {
      "text/plain": [
       "'1 máy game lướt web sử dụng pin 1 16 tiếng  ngủ ngủ chẳng động   2 mn 2 nhạc cà giật cà giật 3 video mờ chán okie '"
      ]
     },
     "execution_count": 18,
     "metadata": {},
     "output_type": "execute_result"
    }
   ],
   "source": [
    "df3[\"comment\"][97]"
   ]
  },
  {
   "cell_type": "markdown",
   "metadata": {},
   "source": [
    "Dấu câu và emoji đi rồi ha :blush:"
   ]
  },
  {
   "cell_type": "code",
   "execution_count": 19,
   "metadata": {},
   "outputs": [],
   "source": [
    "# df3[\"comment\"].to_csv('sub3.csv', index=False)"
   ]
  },
  {
   "cell_type": "markdown",
   "metadata": {},
   "source": [
    "T nhận ra là bản stop-word t đang xài không có từ chửi thề mấy ô ạ.\n",
    "\n",
    "Ví dụ như \"mượt vl\" thì nó vẫn cứ là \"mượt vl\" thôi\n",
    "\n",
    "Thế nên t làm tạm một list chửi thề để remove"
   ]
  },
  {
   "cell_type": "code",
   "execution_count": 20,
   "metadata": {},
   "outputs": [],
   "source": [
    "bad_words = [['loz', 'dm', 'vl', 'đéo', 'đcmn', 'qq', 'vcl', 'vãi', 'chưởng', 'vc', 'thề', 't']]"
   ]
  },
  {
   "cell_type": "markdown",
   "metadata": {},
   "source": [
    "Note: ở một vài comment 'vc' là 'việc'"
   ]
  },
  {
   "cell_type": "code",
   "execution_count": 21,
   "metadata": {},
   "outputs": [],
   "source": [
    "# Bỏ đi các từ chửi thề\n",
    "df4 = df3.copy()\n",
    "df4['comment'] = df4['comment'].apply(lambda x: ' '.join([word for word in x.split() if word not in bad_words]))"
   ]
  },
  {
   "cell_type": "code",
   "execution_count": 22,
   "metadata": {},
   "outputs": [],
   "source": [
    "# df4.to_csv(\"sub4.csv\")"
   ]
  }
 ],
 "metadata": {
  "kernelspec": {
   "display_name": "Python 3",
   "language": "python",
   "name": "python3"
  },
  "language_info": {
   "codemirror_mode": {
    "name": "ipython",
    "version": 3
   },
   "file_extension": ".py",
   "mimetype": "text/x-python",
   "name": "python",
   "nbconvert_exporter": "python",
   "pygments_lexer": "ipython3",
   "version": "3.10.6"
  }
 },
 "nbformat": 4,
 "nbformat_minor": 2
}
