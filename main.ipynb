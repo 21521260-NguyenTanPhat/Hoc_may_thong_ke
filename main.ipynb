{
 "cells": [
  {
   "cell_type": "code",
   "execution_count": 1,
   "metadata": {},
   "outputs": [
    {
     "data": {
      "text/plain": [
       "<torch._C.Generator at 0x7a3d3b5011d0>"
      ]
     },
     "execution_count": 1,
     "metadata": {},
     "output_type": "execute_result"
    }
   ],
   "source": [
    "from dataset import ViSFD\n",
    "from metrics import AspectF1Score, PolarityF1Score\n",
    "from vnsabsa_model.tokenization_vnsabsa import VnSmartphoneAbsaTokenizer\n",
    "from modules import LSTM_CNN, SmartphoneBERT\n",
    "from loss import Loss\n",
    "from torch.optim import AdamW\n",
    "from utils import train\n",
    "from torchinfo import summary\n",
    "import torch\n",
    "\n",
    "torch.random.manual_seed(42)"
   ]
  },
  {
   "cell_type": "code",
   "execution_count": 2,
   "metadata": {},
   "outputs": [
    {
     "data": {
      "text/plain": [
       "==========================================================================================\n",
       "Layer (type:depth-idx)                                            Param #\n",
       "==========================================================================================\n",
       "SmartphoneBERT                                                    --\n",
       "├─Embedding: 1-1                                                  4,048,896\n",
       "├─TransformerEncoder: 1-2                                         --\n",
       "│    └─ModuleList: 2-1                                            --\n",
       "│    │    └─TransformerEncoderLayer: 3-1                          3,546,624\n",
       "│    │    └─TransformerEncoderLayer: 3-2                          3,546,624\n",
       "│    │    └─TransformerEncoderLayer: 3-3                          3,546,624\n",
       "│    │    └─TransformerEncoderLayer: 3-4                          3,546,624\n",
       "│    └─LayerNorm: 2-2                                             1,536\n",
       "├─AspectClassifier: 1-3                                           --\n",
       "│    └─Sequential: 2-3                                            --\n",
       "│    │    └─Dropout: 3-5                                          --\n",
       "│    │    └─Linear: 3-6                                           196,736\n",
       "│    │    └─ReLU: 3-7                                             --\n",
       "│    │    └─Dropout: 3-8                                          --\n",
       "│    │    └─Linear: 3-9                                           1,419\n",
       "├─PolarityClassifier: 1-4                                         --\n",
       "│    └─ModuleList: 2-4                                            --\n",
       "│    │    └─Sequential: 3-10                                      197,123\n",
       "│    │    └─Sequential: 3-11                                      197,123\n",
       "│    │    └─Sequential: 3-12                                      197,123\n",
       "│    │    └─Sequential: 3-13                                      197,123\n",
       "│    │    └─Sequential: 3-14                                      197,123\n",
       "│    │    └─Sequential: 3-15                                      197,123\n",
       "│    │    └─Sequential: 3-16                                      197,123\n",
       "│    │    └─Sequential: 3-17                                      197,123\n",
       "│    │    └─Sequential: 3-18                                      197,123\n",
       "│    │    └─Sequential: 3-19                                      197,123\n",
       "==========================================================================================\n",
       "Total params: 20,406,313\n",
       "Trainable params: 20,406,313\n",
       "Non-trainable params: 0\n",
       "=========================================================================================="
      ]
     },
     "execution_count": 2,
     "metadata": {},
     "output_type": "execute_result"
    }
   ],
   "source": [
    "# Train config\n",
    "BATCH_SIZE = 64\n",
    "EPOCHS = 40\n",
    "NUM_GRAD_ACCUMULATE = 2\n",
    "DEVICE = \"cuda\"\n",
    "METRICS = {\n",
    "    \"Aspect F1\": AspectF1Score(aspect_thresholds=0.5),\n",
    "    \"Polarity F1\": PolarityF1Score()\n",
    "}\n",
    "\n",
    "# Datasets\n",
    "train_set = ViSFD(\"data\", \"train\")\n",
    "val_set = ViSFD(\"data\", \"dev\")\n",
    "test_set = ViSFD(\"data\", \"test\")\n",
    "# Aspect label weights\n",
    "a_label_weights = len(train_set) / train_set.label_frequencies.size(0) / train_set.label_frequencies\n",
    "\n",
    "# Modules\n",
    "tokenizer = VnSmartphoneAbsaTokenizer(\n",
    "    vocab_file=\"./pretrained_tokenizer/vn-smartphone-absa-vocab.json\", \n",
    "    merge_file=\"./pretrained_tokenizer/vn-smartphone-absa-merges.txt\"\n",
    ")\n",
    "# model = LSTM_CNN(tokenizer.vocab_size, lstm_hidden_size=768)\n",
    "model = SmartphoneBERT(tokenizer.vocab_size, num_encoders=4)\n",
    "loss = Loss(\n",
    "    a_label_weight=a_label_weights.cuda(),\n",
    "    aspect_weight=1,\n",
    "    polarity_weight=1\n",
    ")\n",
    "optimizer = AdamW(model.parameters(), 1e-4)\n",
    "\n",
    "summary(model)"
   ]
  },
  {
   "cell_type": "code",
   "execution_count": null,
   "metadata": {},
   "outputs": [],
   "source": [
    "train(\n",
    "    tokenizer=tokenizer,\n",
    "    model=model,\n",
    "    train_set=train_set,\n",
    "    val_set=val_set,\n",
    "    batch_size=BATCH_SIZE,\n",
    "    num_grad_accumulate=NUM_GRAD_ACCUMULATE,\n",
    "    epochs=EPOCHS,\n",
    "    optimizer=optimizer,\n",
    "    loss_fn=loss,\n",
    "    metrics=METRICS,\n",
    "    device=DEVICE,\n",
    "    enable_record_loss=True\n",
    ")"
   ]
  },
  {
   "cell_type": "code",
   "execution_count": null,
   "metadata": {},
   "outputs": [
    {
     "data": {
      "text/plain": [
       "<All keys matched successfully>"
      ]
     },
     "execution_count": 21,
     "metadata": {},
     "output_type": "execute_result"
    }
   ],
   "source": [
    "# states = torch.load(\"pretrained_model/smartphone-bert.pt\")\n",
    "states = torch.load(\"pretrained_model/smartphone-lstm-cnn.pt\")\n",
    "model.load_state_dict(states)"
   ]
  },
  {
   "cell_type": "code",
   "execution_count": null,
   "metadata": {},
   "outputs": [
    {
     "name": "stderr",
     "output_type": "stream",
     "text": [
      "Epoch 1 - Aspect F1 Score Evaluation: 100%|\u001b[34m██████████\u001b[0m| 35/35 [00:04<00:00,  8.43it/s]\n",
      "Epoch 1 - Polarity F1 Score Evaluation: 100%|\u001b[34m██████████\u001b[0m| 35/35 [00:04<00:00,  8.65it/s]\n"
     ]
    },
    {
     "data": {
      "text/plain": [
       "{'Aspect F1': 0.72042, 'Polarity F1': 0.6795499920845032}"
      ]
     },
     "execution_count": 22,
     "metadata": {},
     "output_type": "execute_result"
    }
   ],
   "source": [
    "from utils import absa_eval\n",
    "\n",
    "absa_eval(\n",
    "    tokenizer=tokenizer,\n",
    "    model=model,\n",
    "    test_set=test_set,\n",
    "    reduction=\"mean\", # Or \"none\" for aspect-wise evaluation\n",
    "    batch_size=BATCH_SIZE\n",
    ")"
   ]
  }
 ],
 "metadata": {
  "kernelspec": {
   "display_name": "venv",
   "language": "python",
   "name": "python3"
  },
  "language_info": {
   "codemirror_mode": {
    "name": "ipython",
    "version": 3
   },
   "file_extension": ".py",
   "mimetype": "text/x-python",
   "name": "python",
   "nbconvert_exporter": "python",
   "pygments_lexer": "ipython3",
   "version": "3.12.3"
  }
 },
 "nbformat": 4,
 "nbformat_minor": 2
}
