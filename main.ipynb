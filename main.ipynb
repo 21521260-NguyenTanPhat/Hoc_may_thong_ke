{
 "cells": [
  {
   "cell_type": "code",
   "execution_count": 32,
   "metadata": {},
   "outputs": [
    {
     "name": "stdout",
     "output_type": "stream",
     "text": [
      "2024-04-27 09:26:03 INFO  WordSegmenter:24 - Loading Word Segmentation model\n",
      "2024-04-27 09:26:03 INFO  PosTagger:23 - Loading POS Tagging model\n",
      "2024-04-27 09:26:05 INFO  NerRecognizer:34 - Loading NER model\n",
      "2024-04-27 09:26:14 INFO  DependencyParser:32 - Loading Dependency Parsing model\n",
      "Progress: 100%|\u001b[32m████████████████████████████\u001b[0m| 7786/7786 [00:37<00:00, 209.74it/s]\u001b[0m\n"
     ]
    }
   ],
   "source": [
    "# Prepare data for tokenizer\n",
    "!python3 tokenizer/prepare-visfd.py \\\n",
    "    ./data/Train.csv \\\n",
    "    --out_dir ./tokenizer"
   ]
  },
  {
   "cell_type": "code",
   "execution_count": 10,
   "metadata": {},
   "outputs": [
    {
     "name": "stdout",
     "output_type": "stream",
     "text": [
      "\u001b[2K[00:00:00] Tokenize words                 ██████████████████ 7718     /     7718[00:00:00] Tokenize words                 ██████████████████ 0        /        0\n",
      "\u001b[2K[00:00:00] Count pairs                    ██████████████████ 7718     /     7718\n",
      "\u001b[2K[00:00:00] Compute merges                 ██████████████████ 4640     /     4640\n"
     ]
    }
   ],
   "source": [
    "# Build tokenizer\n",
    "!python3 tokenizer/build-tokenizer.py \\\n",
    "    ./tokenizer/feedbacks.txt \\\n",
    "    --out_dir ./tokenizer \\\n",
    "    --config_file ./config.json"
   ]
  },
  {
   "cell_type": "code",
   "execution_count": 11,
   "metadata": {},
   "outputs": [],
   "source": [
    "from tokenizers import Tokenizer\n",
    "\n",
    "tokenizer: Tokenizer = Tokenizer.from_file(\"./tokenizer/tokenizer.json\")"
   ]
  },
  {
   "cell_type": "code",
   "execution_count": 50,
   "metadata": {},
   "outputs": [
    {
     "data": {
      "text/plain": [
       "(torch.Size([11]), torch.Size([10, 3]))"
      ]
     },
     "execution_count": 50,
     "metadata": {},
     "output_type": "execute_result"
    }
   ],
   "source": [
    "from modules import ViSFD_LSTM\n",
    "import torch\n",
    "vocab_size = 5000\n",
    "N, L = 5, 7\n",
    "input = torch.randint(0, vocab_size, (L,))\n",
    "model = ViSFD_LSTM(vocab_size, task_type=\"mtl\")\n",
    "\n",
    "o, others = model(input)\n",
    "o.size(), others.size()"
   ]
  }
 ],
 "metadata": {
  "kernelspec": {
   "display_name": "venv",
   "language": "python",
   "name": "python3"
  },
  "language_info": {
   "codemirror_mode": {
    "name": "ipython",
    "version": 3
   },
   "file_extension": ".py",
   "mimetype": "text/x-python",
   "name": "python",
   "nbconvert_exporter": "python",
   "pygments_lexer": "ipython3",
   "version": "3.12.3"
  }
 },
 "nbformat": 4,
 "nbformat_minor": 2
}
