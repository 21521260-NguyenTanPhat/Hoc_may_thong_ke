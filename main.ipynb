{
 "cells": [
  {
   "cell_type": "code",
   "execution_count": 32,
   "metadata": {},
   "outputs": [
    {
     "name": "stdout",
     "output_type": "stream",
     "text": [
      "2024-04-27 09:26:03 INFO  WordSegmenter:24 - Loading Word Segmentation model\n",
      "2024-04-27 09:26:03 INFO  PosTagger:23 - Loading POS Tagging model\n",
      "2024-04-27 09:26:05 INFO  NerRecognizer:34 - Loading NER model\n",
      "2024-04-27 09:26:14 INFO  DependencyParser:32 - Loading Dependency Parsing model\n",
      "Progress: 100%|\u001b[32m████████████████████████████\u001b[0m| 7786/7786 [00:37<00:00, 209.74it/s]\u001b[0m\n"
     ]
    }
   ],
   "source": [
    "# Prepare data for tokenizer\n",
    "!python3 tokenizer/prepare-visfd.py \\\n",
    "    ./data/Train.csv \\\n",
    "    --out_dir ./tokenizer"
   ]
  },
  {
   "cell_type": "code",
   "execution_count": 4,
   "metadata": {},
   "outputs": [
    {
     "name": "stdout",
     "output_type": "stream",
     "text": [
      "\u001b[2K[00:00:00] Tokenize words                 ██████████████████ 7737     /     7737[00:00:00] Tokenize words                 ██████████████████ 0        /        0\n",
      "\u001b[2K[00:00:00] Count pairs                    ██████████████████ 7737     /     7737\n",
      "\u001b[2K[00:00:00] Compute merges                 ██████████████████ 4640     /     4640\n"
     ]
    }
   ],
   "source": [
    "# Build tokenizer\n",
    "!python3 tokenizer/build-tokenizer.py \\\n",
    "    ./tokenizer/feedbacks.txt \\\n",
    "    --out_dir ./tokenizer \\\n",
    "    --config_file ./config.json"
   ]
  },
  {
   "cell_type": "code",
   "execution_count": 5,
   "metadata": {},
   "outputs": [],
   "source": [
    "from tokenizers import Tokenizer\n",
    "\n",
    "tokenizer: Tokenizer = Tokenizer.from_file(\"./tokenizer/tokenizer.json\")"
   ]
  },
  {
   "cell_type": "code",
   "execution_count": 7,
   "metadata": {},
   "outputs": [
    {
     "data": {
      "text/plain": [
       "<tokenizers.normalizers.Sequence at 0x7e6e65094d70>"
      ]
     },
     "execution_count": 7,
     "metadata": {},
     "output_type": "execute_result"
    }
   ],
   "source": []
  },
  {
   "cell_type": "code",
   "execution_count": null,
   "metadata": {},
   "outputs": [],
   "source": [
    "from modules import ViSFD_LSTM\n",
    "import torch\n",
    "vocab_size = 5000\n",
    "N, L = 5, 7\n",
    "input = torch.randint(0, vocab_size, (N, L))\n",
    "model = ViSFD_LSTM(vocab_size, task_type=\"mtl\")\n",
    "\n",
    "o, others = model(input)\n",
    "o.size(), others.size()"
   ]
  },
  {
   "cell_type": "code",
   "execution_count": 8,
   "metadata": {},
   "outputs": [
    {
     "data": {
      "text/plain": [
       "'ý kiến riêng của tôi: máy có viên pin trâu 5000 mah. chơi game ổn không thể gọi là mượt, bởi tầm giá này là thuộc phân khúc giá rẻ nên không nói mượt được. thứ hai là về giải trí: xem phim ở mức độbth bởi vì máy được trang bị màn hinh ips lcd độ phân giải hd+ nên xem phim chỉ bật được 720p. thứ ba là wifi: bth. thứ tư là màn hình có hơi ám vàng+ tím, vân tay nhạy. thứ năm là loa: tạm ổn, không to cũng không nhỏ, đủ nghe. cuối cùng là về camera: máy được tích hợp cảm biến chính vs độ phân giải là 13mp, phụ 8mp, 2mp chụp ảnh có thể gọi là tạm được.'"
      ]
     },
     "execution_count": 8,
     "metadata": {},
     "output_type": "execute_result"
    }
   ],
   "source": [
    "import re\n",
    "\n",
    "\n",
    "tokenizer.normalizer.normalize_str(\"Ý kiến riêng của tôi: máy có viên pin trâu 5000 mAh. Chơi game ổn không thể gọi là mượt, bởi tầm giá này là thuộc phân khúc giá rẻ nên không nói mượt được. Thứ hai là về giải trí: xem phim ở mức độ bth bởi vì máy được trang bị màn hinh IPS LCD độ phân giải HD+ nên xem phim chỉ bật được 720P. Thứ ba là Wifi: bth. Thứ tư là màn hình có hơi ám vàng+ tím, vân tay nhạy. Thứ năm là loa: tạm ổn, không to cũng không nhỏ, đủ nghe. Cuối cùng là về camera: máy được tích hợp cảm biến chính vs độ phân giải là 13MP, phụ 8MP, 2MP chụp ảnh có thể gọi là tạm được.\")"
   ]
  }
 ],
 "metadata": {
  "kernelspec": {
   "display_name": "venv",
   "language": "python",
   "name": "python3"
  },
  "language_info": {
   "codemirror_mode": {
    "name": "ipython",
    "version": 3
   },
   "file_extension": ".py",
   "mimetype": "text/x-python",
   "name": "python",
   "nbconvert_exporter": "python",
   "pygments_lexer": "ipython3",
   "version": "3.12.3"
  }
 },
 "nbformat": 4,
 "nbformat_minor": 2
}
