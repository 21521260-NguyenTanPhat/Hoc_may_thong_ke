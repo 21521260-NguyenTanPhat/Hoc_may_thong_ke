{
 "cells": [
  {
   "cell_type": "code",
   "execution_count": 10,
   "metadata": {},
   "outputs": [
    {
     "name": "stdout",
     "output_type": "stream",
     "text": [
      "2024-04-25 16:49:01 INFO  WordSegmenter:24 - Loading Word Segmentation model\n",
      "2024-04-25 16:49:01 INFO  PosTagger:23 - Loading POS Tagging model\n",
      "2024-04-25 16:49:02 INFO  NerRecognizer:34 - Loading NER model\n",
      "2024-04-25 16:49:11 INFO  DependencyParser:32 - Loading Dependency Parsing model\n",
      "Progress: 100%|\u001b[32m████████████████████████████\u001b[0m| 7786/7786 [00:35<00:00, 217.57it/s]\u001b[0m\n",
      "Tất_cả mọi thứ đều ổn hết : màn_hình đẹp , máy chạy êm , pin sạc nhanh , màu mặt lưng đẹp . Nhưng chỉ tiết ở phần thiết_kế , phải_chi loa ngoài được đặt ở bên hông thay_vì đặt ở cạnh dưới như_vầy . Tay cứ bị đè lên loa khi sử_dụng í , cứ lo chính bản_thân đè nhiều quá sẽ làm loa hư . Thêm 1 cái nhỏ_xíu xiu : mới mua hôm_qua được giảm 500.000 đ , nay lên xem tuột xuống đươc giảm hẳn 1.000.000 đ . Tức ghê 若若\n"
     ]
    }
   ],
   "source": [
    "!python3 prepare-visfd.py \\\n",
    "    ./data/Train.csv \\\n",
    "    -o ./tokenizer"
   ]
  },
  {
   "cell_type": "code",
   "execution_count": 25,
   "metadata": {},
   "outputs": [
    {
     "name": "stdout",
     "output_type": "stream",
     "text": [
      "\u001b[2K[00:00:00] Tokenize words                 ██████████████████ 7737     /     7737[00:00:00] Tokenize words                 ██████████████████ 0        /        0\n",
      "\u001b[2K[00:00:00] Count pairs                    ██████████████████ 7737     /     7737\n",
      "\u001b[2K[00:00:00] Compute merges                 ██████████████████ 7640     /     7640\n"
     ]
    }
   ],
   "source": [
    "# Build tokenizer\n",
    "!python3 build-tokenizer.py \\\n",
    "    ./tokenizer/feedbacks.txt \\\n",
    "    -o ./tokenizer            "
   ]
  },
  {
   "cell_type": "code",
   "execution_count": 6,
   "metadata": {},
   "outputs": [],
   "source": [
    "from tokenizers import Tokenizer\n",
    "\n",
    "tokenizer: Tokenizer = Tokenizer.from_file(\"./tokenizer/tokenizer.json\")"
   ]
  },
  {
   "cell_type": "code",
   "execution_count": 11,
   "metadata": {},
   "outputs": [
    {
     "name": "stdout",
     "output_type": "stream",
     "text": [
      "2024-04-25 20:25:47 INFO  WordSegmenter:24 - Loading Word Segmentation model\n",
      "2024-04-25 20:25:47 INFO  PosTagger:23 - Loading POS Tagging model\n",
      "2024-04-25 20:25:49 INFO  NerRecognizer:34 - Loading NER model\n",
      "2024-04-25 20:25:57 INFO  DependencyParser:32 - Loading Dependency Parsing model\n"
     ]
    }
   ],
   "source": [
    "from py_vncorenlp import VnCoreNLP\n",
    "import os\n",
    "\n",
    "cwd = os.getcwd()\n",
    "vncorenlp = VnCoreNLP(save_dir=os.environ[\"VNCORENLP\"])\n",
    "os.chdir(cwd)"
   ]
  },
  {
   "cell_type": "code",
   "execution_count": 19,
   "metadata": {},
   "outputs": [
    {
     "name": "stdout",
     "output_type": "stream",
     "text": [
      "['<bos>', 'tất_cả', 'mọi', 'thứ', 'đều', 'ổn', 'hết', ':', 'màn_hình', 'đẹp', ',', 'máy', 'chạy', 'êm', ',', 'pin', 'sạc', 'nhanh', ',', 'màu', 'mặt', 'lưng', 'đẹp', '.', 'nhưng', 'chỉ', 'tiết', 'ở', 'phần', 'thiết_kế', ',', 'phải_chi', 'loa', 'ngoài', 'được', 'đặt', 'ở', 'bên', 'hông', 'thay', '##_vì', 'đặt', 'ở', 'cạnh', 'dưới', 'như_v', '##ầy', '.', 'tay', 'cứ', 'bị', 'đè', 'lên', 'loa', 'khi', 'sử_dụng', 'í', ',', 'cứ', 'lo', 'chính', 'bản_thân', 'đè', 'nhiều', 'quá', 'sẽ', 'làm', 'loa', 'hư', '.', 'thêm', '1', 'cái', 'nhỏ_xíu', 'xiu', ':', 'mới', 'mua', 'hôm_qua', 'được', 'giảm', '500', '.', '000', 'đ', ',', 'nay', 'lên', 'xem', 'tuột', 'xuống', 'đươc', 'giảm', 'hẳn', '1', '.', '000', '.', '000', 'đ', '.', 'tức', 'ghê', '若', '若', '<eos>']\n"
     ]
    }
   ],
   "source": [
    "feedback = \"Tất cả mọi thứ đều ổn hết: màn hình đẹp, máy chạy êm, pin sạc nhanh, màu mặt lưng đẹp. Nhưng chỉ tiết ở phần thiết kế, phải chi loa ngoài được đặt ở bên hông thay vì đặt ở cạnh dưới như vầy. Tay cứ bị đè lên loa khi sử dụng í, cứ lo chính bản thân đè nhiều quá sẽ làm loa hư. Thêm 1 cái nhỏ xíu xiu : mới mua hôm qua được giảm 500.000đ, nay lên xem tuột xuống đươc giảm hẳn 1.000.000đ. Tức ghê 🥴🥴\"\n",
    "print(tokenizer.encode(\" \".join(vncorenlp.word_segment(feedback))).tokens)"
   ]
  },
  {
   "cell_type": "code",
   "execution_count": 1,
   "metadata": {},
   "outputs": [
    {
     "data": {
      "text/plain": [
       "(torch.Size([5, 11]), torch.Size([5, 10, 3]))"
      ]
     },
     "execution_count": 1,
     "metadata": {},
     "output_type": "execute_result"
    }
   ],
   "source": [
    "from modules import ViSFD_LSTM\n",
    "import torch\n",
    "vocab_size = 5000\n",
    "N, L = 5, 7\n",
    "input = torch.randint(0, vocab_size, (N, L))\n",
    "model = ViSFD_LSTM(vocab_size, task_type=\"mtl\")\n",
    "\n",
    "o, others = model(input)\n",
    "o.size(), others.size()"
   ]
  },
  {
   "cell_type": "code",
   "execution_count": 1,
   "metadata": {},
   "outputs": [],
   "source": [
    "import torch"
   ]
  }
 ],
 "metadata": {
  "kernelspec": {
   "display_name": "venv",
   "language": "python",
   "name": "python3"
  },
  "language_info": {
   "codemirror_mode": {
    "name": "ipython",
    "version": 3
   },
   "file_extension": ".py",
   "mimetype": "text/x-python",
   "name": "python",
   "nbconvert_exporter": "python",
   "pygments_lexer": "ipython3",
   "version": "3.12.3"
  }
 },
 "nbformat": 4,
 "nbformat_minor": 2
}
