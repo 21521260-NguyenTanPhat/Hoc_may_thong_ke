{
 "cells": [
  {
   "cell_type": "code",
   "execution_count": 2,
   "metadata": {},
   "outputs": [],
   "source": [
    "import torch"
   ]
  },
  {
   "cell_type": "code",
   "execution_count": 3,
   "metadata": {},
   "outputs": [],
   "source": [
    "# Model: The model itself\n",
    "# Decoder: Transform model's output to something interpretable to human\n",
    "model, decoder = torch.load(\"product.pt\")"
   ]
  },
  {
   "cell_type": "markdown",
   "metadata": {},
   "source": [
    "### Example"
   ]
  },
  {
   "cell_type": "code",
   "execution_count": 10,
   "metadata": {},
   "outputs": [
    {
     "name": "stdout",
     "output_type": "stream",
     "text": [
      "What model's outputs look like:\n"
     ]
    },
    {
     "data": {
      "text/plain": [
       "(tensor([[-36.3229, -30.4318,  25.0926, -25.9522,  -4.9002,  17.1598, -10.9459,\n",
       "          -14.6895,  16.4082, -14.7972, 102.3427],\n",
       "         [-40.6371, -23.5302, -28.9278,  22.0796,   1.9934, -31.5514,  -7.7143,\n",
       "          -40.0630,  -7.9491, -21.0114,  92.7468]], grad_fn=<AddmmBackward0>),\n",
       " tensor([[[-37.5235, -15.3712,  25.5809],\n",
       "          [-21.7968,  -6.6083,  31.3603],\n",
       "          [ 26.9684,   5.4178, -36.3439],\n",
       "          [ -0.2456, -15.8170,   7.0672],\n",
       "          [ -8.4487,  -1.5969, -11.6683],\n",
       "          [-61.6067, -23.2159,  22.0050],\n",
       "          [  3.2627, -12.4012,  -4.9460],\n",
       "          [-16.9111,  -7.4533,   9.9212],\n",
       "          [-27.6970, -13.2153,  16.5599],\n",
       "          [ -5.7590,  -6.6828,   7.2167]],\n",
       " \n",
       "         [[ -2.6529,  -5.9016,   0.2740],\n",
       "          [ 22.1392, -13.6258,  -6.9434],\n",
       "          [ 28.6046,  -6.0165, -21.3273],\n",
       "          [  8.8701,  -6.2174, -15.5182],\n",
       "          [  3.3340,  -1.5322,  -8.2589],\n",
       "          [ 10.3353,  -3.9240, -27.3942],\n",
       "          [ 12.6525,  -1.4268, -13.0058],\n",
       "          [  8.2381, -21.0865,  -8.1042],\n",
       "          [  6.7742,  -5.1505,  -0.9717],\n",
       "          [ 21.0909,  -0.8139, -15.0571]]], grad_fn=<TransposeBackward0>))"
      ]
     },
     "execution_count": 10,
     "metadata": {},
     "output_type": "execute_result"
    }
   ],
   "source": [
    "input = [\n",
    "    \"Điện thoại đẹp, có điều pin hơi cùi, nv tư vấn nhiệt tình vải\",\n",
    "    \"Đt cũng bth, giá hơi mắc\"\n",
    "]\n",
    "output = model.cpu()(input)\n",
    "\n",
    "print(\"What model's outputs look like:\")\n",
    "output"
   ]
  },
  {
   "cell_type": "markdown",
   "metadata": {},
   "source": [
    "Use `decoder` function to convert to interpretable results.\n",
    "\n",
    "def `decoder`( \\\n",
    "&nbsp;&nbsp;&nbsp;&nbsp;&nbsp;&nbsp;`output`: Tuple[Tensor, Tensor], \\\n",
    "&nbsp;&nbsp;&nbsp;&nbsp;&nbsp;&nbsp;`aspect_threshold`: float | Tensor[float] (shape 1x11) (Mặc định 0.5) \\\n",
    ") -> list"
   ]
  },
  {
   "cell_type": "code",
   "execution_count": 15,
   "metadata": {},
   "outputs": [
    {
     "data": {
      "text/plain": [
       "[{'BATTERY': 'Negative',\n",
       "  'SER&ACC': 'Positive',\n",
       "  'DESIGN': 'Positive',\n",
       "  'OTHERS': ''},\n",
       " {'PRICE': 'Negative', 'GENERAL': 'Negative', 'OTHERS': ''}]"
      ]
     },
     "execution_count": 15,
     "metadata": {},
     "output_type": "execute_result"
    }
   ],
   "source": [
    "threshold = {\n",
    "    \"CAMERA\": 0.5, \n",
    "    \"FEATURES\": 0.5, \n",
    "    \"BATTERY\": 0.5, \n",
    "    \"PRICE\": 0.5, \n",
    "    \"GENERAL\": 0.5, \n",
    "    \"SER&ACC\": 0.5, \n",
    "    \"PERFORMANCE\": 0.5, \n",
    "    \"SCREEN\": 0.5, \n",
    "    \"DESIGN\": 0.5, \n",
    "    \"STORAGE\": 0.5,\n",
    "    \"OTHERS\": 0.8\n",
    "}\n",
    "\n",
    "decoder(\n",
    "    output,\n",
    "    aspect_threshold=torch.tensor([*threshold.values()])\n",
    ")"
   ]
  }
 ],
 "metadata": {
  "kernelspec": {
   "display_name": "venv",
   "language": "python",
   "name": "python3"
  },
  "language_info": {
   "codemirror_mode": {
    "name": "ipython",
    "version": 3
   },
   "file_extension": ".py",
   "mimetype": "text/x-python",
   "name": "python",
   "nbconvert_exporter": "python",
   "pygments_lexer": "ipython3",
   "version": "3.12.3"
  }
 },
 "nbformat": 4,
 "nbformat_minor": 2
}
